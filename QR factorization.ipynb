{
 "cells": [
  {
   "cell_type": "code",
   "execution_count": 2,
   "metadata": {},
   "outputs": [],
   "source": [
    "import numpy as np"
   ]
  },
  {
   "cell_type": "markdown",
   "metadata": {},
   "source": [
    "# Fatoração QR"
   ]
  },
  {
   "cell_type": "code",
   "execution_count": 8,
   "metadata": {},
   "outputs": [],
   "source": [
    "def qr(A):\n",
    "    n = A.shape[0] # .shape Obtém a dimensão da matriz e shape[0] diz o número de linhas\n",
    "    R = A.copy().astype(float)\n",
    "    Q = np.eye(n) # np.eye cria uma matriz identidade de tamanho n x n\n",
    "    \n",
    "    for j in range(n-1):\n",
    "        x = R[j:, j] # Extrai a subcoluna a partir da posição j,j\n",
    "        \n",
    "        if x[0] >= 0:\n",
    "            sign = -1\n",
    "        else: \n",
    "            sign = 1\n",
    "        s_j = sign * np.linalg.norm(x) # np.linalg.norm calcula a norma Euclidiana do vetor x\n",
    "        \n",
    "        if np.isclose(s_j, 0): # Verifica se s_j é próximo de zero (tolerância numérica)\n",
    "            continue \n",
    "        \n",
    "        v = x.copy()\n",
    "        v[0] = v[0] - s_j\n",
    "        w = v / np.linalg.norm(v)\n",
    "        \n",
    "        P = np.eye(n - j) - 2 * np.outer(w, w)\n",
    "        \n",
    "        # @ é o operador de multiplicação de matrizes no Python\n",
    "        R[j:, j:] = P @ R[j:, j:]\n",
    "        Q[:, j:] = Q[:, j:] @ P.T\n",
    "    \n",
    "    return Q, R\n"
   ]
  },
  {
   "cell_type": "code",
   "execution_count": 18,
   "metadata": {},
   "outputs": [],
   "source": [
    "def compare_matrices_with_tolerance(A, B, tolerance=1e-10):\n",
    "    if np.allclose(A, B, atol=tolerance): # np.allclose compara duas matrizes com tolerância especificada\n",
    "        print('As matrizes são idênticas!')\n"
   ]
  },
  {
   "cell_type": "code",
   "execution_count": 20,
   "metadata": {},
   "outputs": [],
   "source": [
    "def pascal_matrix(n):\n",
    "    A = np.ones((n, n)) # np.ones cria matriz n x n preenchida com 1s\n",
    "    for i in range(1, n):\n",
    "        for j in range(1, n):\n",
    "            A[i, j] = A[i-1, j] + A[i, j-1]\n",
    "    return A"
   ]
  },
  {
   "cell_type": "code",
   "execution_count": 21,
   "metadata": {},
   "outputs": [
    {
     "name": "stdout",
     "output_type": "stream",
     "text": [
      "Matriz de Pascal A (6x6):\n",
      "[[  1.   1.   1.   1.   1.   1.]\n",
      " [  1.   2.   3.   4.   5.   6.]\n",
      " [  1.   3.   6.  10.  15.  21.]\n",
      " [  1.   4.  10.  20.  35.  56.]\n",
      " [  1.   5.  15.  35.  70. 126.]\n",
      " [  1.   6.  21.  56. 126. 252.]]\n",
      "As matrizes são idênticas!\n",
      "As matrizes são idênticas!\n"
     ]
    }
   ],
   "source": [
    "A = pascal_matrix(6)\n",
    "print(\"Matriz de Pascal A (6x6):\")\n",
    "print(A)\n",
    "\n",
    "Q, R = qr(A)\n",
    "Q_numpy, R_numpy = np.linalg.qr(A)\n",
    "\n",
    "compare_matrices_with_tolerance(Q, Q_numpy)\n",
    "compare_matrices_with_tolerance(R, R_numpy)"
   ]
  },
  {
   "cell_type": "code",
   "execution_count": 22,
   "metadata": {},
   "outputs": [
    {
     "name": "stdout",
     "output_type": "stream",
     "text": [
      "Matriz Q:\n",
      "[[-0.408248 -0.597614  0.545545 -0.372678  0.188982 -0.062994]\n",
      " [-0.408248 -0.358569 -0.109109  0.521749 -0.566947  0.31497 ]\n",
      " [-0.408248 -0.119523 -0.436436  0.298142  0.377964 -0.629941]\n",
      " [-0.408248  0.119523 -0.436436 -0.298142  0.377964  0.629941]\n",
      " [-0.408248  0.358569 -0.109109 -0.521749 -0.566947 -0.31497 ]\n",
      " [-0.408248  0.597614  0.545545  0.372678  0.188982  0.062994]]\n",
      "\n",
      "Matriz R:\n",
      "[[-2.44949000e+00 -8.57321400e+00 -2.28619040e+01 -5.14392850e+01\n",
      "  -1.02878569e+02 -1.88610710e+02]\n",
      " [-0.00000000e+00  4.18330000e+00  1.67332010e+01  4.51796410e+01\n",
      "   1.00399203e+02  1.97212721e+02]\n",
      " [-0.00000000e+00  0.00000000e+00  3.05505000e+00  1.37477270e+01\n",
      "   3.92792200e+01  9.00148800e+01]\n",
      " [ 0.00000000e+00  0.00000000e+00 -0.00000000e+00  1.34164100e+00\n",
      "   6.70820400e+00  2.04972900e+01]\n",
      " [ 0.00000000e+00  0.00000000e+00  0.00000000e+00 -0.00000000e+00\n",
      "   3.77964000e-01  2.07880500e+00]\n",
      " [ 0.00000000e+00  0.00000000e+00  0.00000000e+00  0.00000000e+00\n",
      "   0.00000000e+00  6.29940000e-02]]\n",
      "\n"
     ]
    }
   ],
   "source": [
    "print(\"Matriz Q:\")\n",
    "print(np.round(Q, 6))\n",
    "print()\n",
    "\n",
    "print(\"Matriz R:\")\n",
    "print(np.round(R, 6))\n",
    "print()"
   ]
  },
  {
   "cell_type": "code",
   "execution_count": 23,
   "metadata": {},
   "outputs": [
    {
     "name": "stdout",
     "output_type": "stream",
     "text": [
      "A:\n",
      "[[  1.   1.   1.   1.   1.   1.]\n",
      " [  1.   2.   3.   4.   5.   6.]\n",
      " [  1.   3.   6.  10.  15.  21.]\n",
      " [  1.   4.  10.  20.  35.  56.]\n",
      " [  1.   5.  15.  35.  70. 126.]\n",
      " [  1.   6.  21.  56. 126. 252.]]\n",
      "\n",
      "QR:\n",
      "[[  1.   1.   1.   1.   1.   1.]\n",
      " [  1.   2.   3.   4.   5.   6.]\n",
      " [  1.   3.   6.  10.  15.  21.]\n",
      " [  1.   4.  10.  20.  35.  56.]\n",
      " [  1.   5.  15.  35.  70. 126.]\n",
      " [  1.   6.  21.  56. 126. 252.]]\n",
      "\n"
     ]
    }
   ],
   "source": [
    "print(\"A:\")\n",
    "print(np.round(A, 6))\n",
    "print()\n",
    "\n",
    "A_reconstructed = Q @ R \n",
    "print(\"QR:\")\n",
    "print(np.round(A_reconstructed, 6))\n",
    "print()"
   ]
  }
 ],
 "metadata": {
  "kernelspec": {
   "display_name": "venv",
   "language": "python",
   "name": "python3"
  },
  "language_info": {
   "codemirror_mode": {
    "name": "ipython",
    "version": 3
   },
   "file_extension": ".py",
   "mimetype": "text/x-python",
   "name": "python",
   "nbconvert_exporter": "python",
   "pygments_lexer": "ipython3",
   "version": "3.11.9"
  }
 },
 "nbformat": 4,
 "nbformat_minor": 2
}
