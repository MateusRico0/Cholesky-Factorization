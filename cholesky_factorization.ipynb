{
 "cells": [
  {
   "cell_type": "code",
   "execution_count": 1,
   "metadata": {},
   "outputs": [],
   "source": [
    "import numpy as np"
   ]
  },
  {
   "cell_type": "markdown",
   "metadata": {},
   "source": [
    "# Fatoração de Cholesky"
   ]
  },
  {
   "cell_type": "code",
   "execution_count": 4,
   "metadata": {},
   "outputs": [],
   "source": [
    "def Cholesky(A):\n",
    "    p = 0\n",
    "    L = np.zeros_like(A, dtype=np.float64)\n",
    "    n = A.shape[0]\n",
    "    for k in range(n):\n",
    "        summation = 0\n",
    "        for j in range(k):\n",
    "            summation += L[k][j] ** 2\n",
    "\n",
    "        summation = A[k, k] - summation\n",
    "        if summation <= 0:\n",
    "            p = 1\n",
    "            print(\"Matrix A não é definida positiva.\")\n",
    "\n",
    "        L[k, k] = np.sqrt(summation)\n",
    "        for i in range(k+1, n):\n",
    "            summation = 0\n",
    "            for j in range(k):\n",
    "                summation += L[i][j] * L[k][j]\n",
    "            \n",
    "            L[i][k] = (A[i][k] - summation)/L[k][k]\n",
    "\n",
    "    return L, p"
   ]
  },
  {
   "cell_type": "markdown",
   "metadata": {},
   "source": [
    "## Funções de Validação"
   ]
  },
  {
   "cell_type": "code",
   "execution_count": 5,
   "metadata": {},
   "outputs": [
    {
     "name": "stdout",
     "output_type": "stream",
     "text": [
      "Fatoração Cholesky está correta\n",
      "A é definida positiva\n"
     ]
    }
   ],
   "source": [
    "def Cholesky_validation(A):\n",
    "    if np.array_equal(Cholesky(A)[0], np.linalg.cholesky(A)):\n",
    "        print(\"Fatoração Cholesky está correta\")\n",
    "    else:\n",
    "        print(\"Ocorreu um erro na Fatoração Cholesky\")\n",
    "Cholesky_validation(A)\n",
    "\n",
    "def definida_positiva(A):\n",
    "    if Cholesky(A)[1] == 0:\n",
    "        print(\"A é definida positiva\")\n",
    "    else:\n",
    "        print(\"A não é definida positiva\")\n",
    "\n",
    "definida_positiva(A)"
   ]
  },
  {
   "cell_type": "markdown",
   "metadata": {},
   "source": [
    "# Exercício 1\n",
    "A = $\\begin{bmatrix} 1 & 1 & 1 \\\\ 1 & 2 & 3 \\\\ 1 & 3 & 6 \\end{bmatrix}$\n"
   ]
  },
  {
   "cell_type": "code",
   "execution_count": 6,
   "metadata": {},
   "outputs": [
    {
     "data": {
      "text/plain": [
       "array([[1, 1, 1],\n",
       "       [1, 2, 3],\n",
       "       [1, 3, 6]])"
      ]
     },
     "execution_count": 6,
     "metadata": {},
     "output_type": "execute_result"
    }
   ],
   "source": [
    "A = np.array([[1,1,1],[1,2,3],[1,3,6]])\n",
    "A"
   ]
  },
  {
   "cell_type": "code",
   "execution_count": 7,
   "metadata": {},
   "outputs": [
    {
     "data": {
      "text/plain": [
       "array([[1., 0., 0.],\n",
       "       [1., 1., 0.],\n",
       "       [1., 2., 1.]])"
      ]
     },
     "execution_count": 7,
     "metadata": {},
     "output_type": "execute_result"
    }
   ],
   "source": [
    "L, p = Cholesky(A)\n",
    "L"
   ]
  },
  {
   "cell_type": "code",
   "execution_count": 8,
   "metadata": {},
   "outputs": [
    {
     "name": "stdout",
     "output_type": "stream",
     "text": [
      "Fatoração Cholesky está correta\n",
      "A é definida positiva\n"
     ]
    }
   ],
   "source": [
    "Cholesky_validation(A)\n",
    "definida_positiva(A)"
   ]
  },
  {
   "cell_type": "markdown",
   "metadata": {},
   "source": [
    "# Exercício 2\n",
    "## Part 1\n",
    "Validar matrix de pascal A apresentada \\\n",
    "\\\n",
    "A = $\\begin{bmatrix} 1 & 1 & 1 & 1 & 1  \\\\ 1 & 2 & 3 & 4 & 5\\\\ 1 & 3 & 6 & 10 & 15 \\\\ 1 & 4 & 10 & 20 & 35 \\\\ 1 & 5 & 15 & 35 & 70\\end{bmatrix}$\n"
   ]
  },
  {
   "cell_type": "code",
   "execution_count": 9,
   "metadata": {},
   "outputs": [
    {
     "data": {
      "text/plain": [
       "array([[ 1,  1,  1,  1,  1],\n",
       "       [ 1,  2,  3,  4,  5],\n",
       "       [ 1,  3,  6, 10, 15],\n",
       "       [ 1,  4, 10, 20, 35],\n",
       "       [ 1,  5, 15, 35, 70]])"
      ]
     },
     "execution_count": 9,
     "metadata": {},
     "output_type": "execute_result"
    }
   ],
   "source": [
    "A = np.array([[1,1,1,1,1],[1,2,3,4,5],[1,3,6,10,15],[1,4,10,20,35],[1,5,15,35,70]])\n",
    "A"
   ]
  },
  {
   "cell_type": "code",
   "execution_count": 10,
   "metadata": {},
   "outputs": [
    {
     "data": {
      "text/plain": [
       "array([[1., 0., 0., 0., 0.],\n",
       "       [1., 1., 0., 0., 0.],\n",
       "       [1., 2., 1., 0., 0.],\n",
       "       [1., 3., 3., 1., 0.],\n",
       "       [1., 4., 6., 4., 1.]])"
      ]
     },
     "execution_count": 10,
     "metadata": {},
     "output_type": "execute_result"
    }
   ],
   "source": [
    "L,p = Cholesky(A)\n",
    "L"
   ]
  },
  {
   "cell_type": "code",
   "execution_count": 11,
   "metadata": {},
   "outputs": [
    {
     "name": "stdout",
     "output_type": "stream",
     "text": [
      "Fatoração Cholesky está correta\n",
      "A é definida positiva\n"
     ]
    }
   ],
   "source": [
    "Cholesky_validation(A)\n",
    "definida_positiva(A)"
   ]
  },
  {
   "cell_type": "markdown",
   "metadata": {},
   "source": [
    "# Exercício 2\n",
    "## Part 2\n",
    "Validar matrix de pascal A apresentada trocando o valor de a[3][3] = 6 por a[3][3] = 5  \\\n",
    "\\\n",
    "A_ = $\\begin{bmatrix} 1 & 1 & 1 & 1 & 1  \\\\ 1 & 2 & 3 & 4 & 5\\\\ 1 & 3 & 5 & 10 & 15 \\\\ 1 & 4 & 10 & 20 & 35 \\\\ 1 & 5 & 15 & 35 & 70\\end{bmatrix}$\n"
   ]
  },
  {
   "cell_type": "code",
   "execution_count": 12,
   "metadata": {},
   "outputs": [
    {
     "data": {
      "text/plain": [
       "array([[ 1,  1,  1,  1,  1],\n",
       "       [ 1,  2,  3,  4,  5],\n",
       "       [ 1,  3,  5, 10, 15],\n",
       "       [ 1,  4, 10, 20, 35],\n",
       "       [ 1,  5, 15, 35, 70]])"
      ]
     },
     "execution_count": 12,
     "metadata": {},
     "output_type": "execute_result"
    }
   ],
   "source": [
    "A_ = np.array([[1,1,1,1,1],[1,2,3,4,5],[1,3,5,10,15],[1,4,10,20,35],[1,5,15,35,70]])\n",
    "A_"
   ]
  },
  {
   "cell_type": "code",
   "execution_count": 13,
   "metadata": {},
   "outputs": [
    {
     "name": "stdout",
     "output_type": "stream",
     "text": [
      "Matrix A não é definida positiva.\n",
      "Matrix A não é definida positiva.\n"
     ]
    },
    {
     "name": "stderr",
     "output_type": "stream",
     "text": [
      "/var/folders/zn/rfsv9ts17k3fzwd8pvt9h30r0000gn/T/ipykernel_83088/4097488180.py:21: RuntimeWarning: divide by zero encountered in double_scalars\n",
      "  L[i][k] = (A[i][k] - summation)/L[k][k]\n",
      "/var/folders/zn/rfsv9ts17k3fzwd8pvt9h30r0000gn/T/ipykernel_83088/4097488180.py:15: RuntimeWarning: invalid value encountered in sqrt\n",
      "  L[k, k] = np.sqrt(summation)\n"
     ]
    },
    {
     "data": {
      "text/plain": [
       "array([[ 1.,  0.,  0.,  0.,  0.],\n",
       "       [ 1.,  1.,  0.,  0.,  0.],\n",
       "       [ 1.,  2.,  0.,  0.,  0.],\n",
       "       [ 1.,  3., inf, nan,  0.],\n",
       "       [ 1.,  4., inf, nan, nan]])"
      ]
     },
     "execution_count": 13,
     "metadata": {},
     "output_type": "execute_result"
    }
   ],
   "source": [
    "L,p = Cholesky(A_)\n",
    "L"
   ]
  },
  {
   "cell_type": "code",
   "execution_count": 14,
   "metadata": {},
   "outputs": [
    {
     "name": "stdout",
     "output_type": "stream",
     "text": [
      "Matrix A não é definida positiva.\n",
      "Matrix A não é definida positiva.\n",
      "A não é definida positiva\n",
      "Matrix A não é definida positiva.\n",
      "Matrix A não é definida positiva.\n"
     ]
    },
    {
     "name": "stderr",
     "output_type": "stream",
     "text": [
      "/var/folders/zn/rfsv9ts17k3fzwd8pvt9h30r0000gn/T/ipykernel_83088/4097488180.py:21: RuntimeWarning: divide by zero encountered in double_scalars\n",
      "  L[i][k] = (A[i][k] - summation)/L[k][k]\n",
      "/var/folders/zn/rfsv9ts17k3fzwd8pvt9h30r0000gn/T/ipykernel_83088/4097488180.py:15: RuntimeWarning: invalid value encountered in sqrt\n",
      "  L[k, k] = np.sqrt(summation)\n"
     ]
    },
    {
     "ename": "LinAlgError",
     "evalue": "Matrix is not positive definite",
     "output_type": "error",
     "traceback": [
      "\u001b[0;31m---------------------------------------------------------------------------\u001b[0m",
      "\u001b[0;31mLinAlgError\u001b[0m                               Traceback (most recent call last)",
      "Cell \u001b[0;32mIn[14], line 3\u001b[0m\n\u001b[1;32m      1\u001b[0m \u001b[38;5;66;03m## Ocorre erro como esperado, pois a alteração desse valor tornou a matrix não definida positiva\u001b[39;00m\n\u001b[1;32m      2\u001b[0m definida_positiva(A_)\n\u001b[0;32m----> 3\u001b[0m \u001b[43mCholesky_validation\u001b[49m\u001b[43m(\u001b[49m\u001b[43mA_\u001b[49m\u001b[43m)\u001b[49m\n",
      "Cell \u001b[0;32mIn[5], line 2\u001b[0m, in \u001b[0;36mCholesky_validation\u001b[0;34m(A)\u001b[0m\n\u001b[1;32m      1\u001b[0m \u001b[38;5;28;01mdef\u001b[39;00m \u001b[38;5;21mCholesky_validation\u001b[39m(A):\n\u001b[0;32m----> 2\u001b[0m     \u001b[38;5;28;01mif\u001b[39;00m np\u001b[38;5;241m.\u001b[39marray_equal(Cholesky(A)[\u001b[38;5;241m0\u001b[39m], \u001b[43mnp\u001b[49m\u001b[38;5;241;43m.\u001b[39;49m\u001b[43mlinalg\u001b[49m\u001b[38;5;241;43m.\u001b[39;49m\u001b[43mcholesky\u001b[49m\u001b[43m(\u001b[49m\u001b[43mA\u001b[49m\u001b[43m)\u001b[49m):\n\u001b[1;32m      3\u001b[0m         \u001b[38;5;28mprint\u001b[39m(\u001b[38;5;124m\"\u001b[39m\u001b[38;5;124mFatoração Cholesky está correta\u001b[39m\u001b[38;5;124m\"\u001b[39m)\n\u001b[1;32m      4\u001b[0m     \u001b[38;5;28;01melse\u001b[39;00m:\n",
      "File \u001b[0;32m<__array_function__ internals>:180\u001b[0m, in \u001b[0;36mcholesky\u001b[0;34m(*args, **kwargs)\u001b[0m\n",
      "File \u001b[0;32m~/data-science/venv 15-48-07-293/lib/python3.11/site-packages/numpy/linalg/linalg.py:770\u001b[0m, in \u001b[0;36mcholesky\u001b[0;34m(a)\u001b[0m\n\u001b[1;32m    768\u001b[0m t, result_t \u001b[38;5;241m=\u001b[39m _commonType(a)\n\u001b[1;32m    769\u001b[0m signature \u001b[38;5;241m=\u001b[39m \u001b[38;5;124m'\u001b[39m\u001b[38;5;124mD->D\u001b[39m\u001b[38;5;124m'\u001b[39m \u001b[38;5;28;01mif\u001b[39;00m isComplexType(t) \u001b[38;5;28;01melse\u001b[39;00m \u001b[38;5;124m'\u001b[39m\u001b[38;5;124md->d\u001b[39m\u001b[38;5;124m'\u001b[39m\n\u001b[0;32m--> 770\u001b[0m r \u001b[38;5;241m=\u001b[39m \u001b[43mgufunc\u001b[49m\u001b[43m(\u001b[49m\u001b[43ma\u001b[49m\u001b[43m,\u001b[49m\u001b[43m \u001b[49m\u001b[43msignature\u001b[49m\u001b[38;5;241;43m=\u001b[39;49m\u001b[43msignature\u001b[49m\u001b[43m,\u001b[49m\u001b[43m \u001b[49m\u001b[43mextobj\u001b[49m\u001b[38;5;241;43m=\u001b[39;49m\u001b[43mextobj\u001b[49m\u001b[43m)\u001b[49m\n\u001b[1;32m    771\u001b[0m \u001b[38;5;28;01mreturn\u001b[39;00m wrap(r\u001b[38;5;241m.\u001b[39mastype(result_t, copy\u001b[38;5;241m=\u001b[39m\u001b[38;5;28;01mFalse\u001b[39;00m))\n",
      "File \u001b[0;32m~/data-science/venv 15-48-07-293/lib/python3.11/site-packages/numpy/linalg/linalg.py:92\u001b[0m, in \u001b[0;36m_raise_linalgerror_nonposdef\u001b[0;34m(err, flag)\u001b[0m\n\u001b[1;32m     91\u001b[0m \u001b[38;5;28;01mdef\u001b[39;00m \u001b[38;5;21m_raise_linalgerror_nonposdef\u001b[39m(err, flag):\n\u001b[0;32m---> 92\u001b[0m     \u001b[38;5;28;01mraise\u001b[39;00m LinAlgError(\u001b[38;5;124m\"\u001b[39m\u001b[38;5;124mMatrix is not positive definite\u001b[39m\u001b[38;5;124m\"\u001b[39m)\n",
      "\u001b[0;31mLinAlgError\u001b[0m: Matrix is not positive definite"
     ]
    }
   ],
   "source": [
    "## Ocorre erro como esperado, pois a alteração desse valor tornou a matrix não definida positiva\n",
    "definida_positiva(A_)\n",
    "Cholesky_validation(A_)"
   ]
  },
  {
   "cell_type": "markdown",
   "metadata": {},
   "source": [
    "# Referência\n",
    "\n",
    "- Referencia: \n",
    "    - Ruggiero, M.A.G. e Lopes, V.L.R., Calculo Numérico - Aspectos Teóricos e Computacionais, Segunda Edição, Pearson, 2000.\n",
    "    - IA897 Unicamp, Prof. Paulo Valente"
   ]
  }
 ],
 "metadata": {
  "kernelspec": {
   "display_name": "venv 15-48-07-293",
   "language": "python",
   "name": "python3"
  },
  "language_info": {
   "codemirror_mode": {
    "name": "ipython",
    "version": 3
   },
   "file_extension": ".py",
   "mimetype": "text/x-python",
   "name": "python",
   "nbconvert_exporter": "python",
   "pygments_lexer": "ipython3",
   "version": "3.11.9"
  }
 },
 "nbformat": 4,
 "nbformat_minor": 2
}
